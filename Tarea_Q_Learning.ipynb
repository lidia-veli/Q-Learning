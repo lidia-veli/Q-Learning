{
  "nbformat": 4,
  "nbformat_minor": 0,
  "metadata": {
    "colab": {
      "provenance": [],
      "toc_visible": true
    },
    "kernelspec": {
      "name": "python3",
      "display_name": "Python 3"
    },
    "language_info": {
      "name": "python"
    }
  },
  "cells": [
    {
      "cell_type": "markdown",
      "source": [
        "# Q-Learning\n"
      ],
      "metadata": {
        "id": "uIxL36R2W1zE"
      }
    },
    {
      "cell_type": "markdown",
      "source": [
        "Importamos las librerías necesarias:\n",
        "- **Gym**: entorno de aprendizaje por refuerzo\n",
        "- **NumPy**: operaciones matriciales\n",
        "- **Matplotlib**: visualización"
      ],
      "metadata": {
        "id": "0IiNmBfgW7tu"
      }
    },
    {
      "cell_type": "code",
      "source": [
        "!pip install -q gym matplotlib"
      ],
      "metadata": {
        "id": "ThKOAU4Xa020"
      },
      "execution_count": 1,
      "outputs": []
    },
    {
      "cell_type": "code",
      "source": [
        "import gym\n",
        "import random\n",
        "import numpy as np\n",
        "import matplotlib.pyplot as plt\n",
        "from IPython.display import clear_output\n",
        "import time\n"
      ],
      "metadata": {
        "id": "UXO1zj9DZtCN"
      },
      "execution_count": 31,
      "outputs": []
    },
    {
      "cell_type": "markdown",
      "source": [
        "Creamos el entorno Frozen Lake, un entorno de aprendizaje por refuerzo donde un agente debe navegar un lago congelado para llegar al objetivo sin caer en los agujeros."
      ],
      "metadata": {
        "id": "ALY8OkHWXMnR"
      }
    },
    {
      "cell_type": "code",
      "execution_count": 32,
      "metadata": {
        "id": "fv3IIPjBZjfc"
      },
      "outputs": [],
      "source": [
        "environment = gym.make(\"FrozenLake-v1\", is_slippery=False)\n",
        "environment.reset()  # Reiniciamos el entorno\n",
        "environment.render()  # lo respresentamos"
      ]
    },
    {
      "cell_type": "markdown",
      "source": [
        "Obtenemos el número de estados y acciones posibles en el entorno. Inicializamos la tabla Q con ceros, donde qtable[state, action] representa el valor de la acción para el estado dado."
      ],
      "metadata": {
        "id": "lGzpBlQfXk1U"
      }
    },
    {
      "cell_type": "code",
      "source": [
        "nb_states = environment.observation_space.n\n",
        "nb_actions = environment.action_space.n\n",
        "qtable = np.zeros((nb_states, nb_actions))"
      ],
      "metadata": {
        "id": "3RgKWPxTWyps"
      },
      "execution_count": 33,
      "outputs": []
    },
    {
      "cell_type": "markdown",
      "source": [
        "## Q-Learning"
      ],
      "metadata": {
        "id": "M7zC2jBZb0QR"
      }
    },
    {
      "cell_type": "markdown",
      "source": [
        "### Inicialización\n",
        "\n",
        "Definimos los hiperparámetros del algoritmo:\n",
        "- *episodes*: número de episodios\n",
        "- *alpha*: tasa de aprendizaje\n",
        "- *gamma*: factor de descuento"
      ],
      "metadata": {
        "id": "PaUl-yeFX4-I"
      }
    },
    {
      "cell_type": "code",
      "source": [
        "episodes = 1000\n",
        "alpha = 0.5\n",
        "gamma = 0.9"
      ],
      "metadata": {
        "id": "NqFEsOIyYj4M"
      },
      "execution_count": 34,
      "outputs": []
    },
    {
      "cell_type": "code",
      "source": [
        "# Lista de resultados para graficar\n",
        "outcomes = []\n",
        "\n",
        "print('Q-table antes del entrenamiento:')\n",
        "print(qtable)"
      ],
      "metadata": {
        "colab": {
          "base_uri": "https://localhost:8080/"
        },
        "id": "8zbLFmF-Ymb8",
        "outputId": "e859854c-e4ea-4899-d0cb-43807b63fee1"
      },
      "execution_count": 35,
      "outputs": [
        {
          "output_type": "stream",
          "name": "stdout",
          "text": [
            "Q-table antes del entrenamiento:\n",
            "[[0. 0. 0. 0.]\n",
            " [0. 0. 0. 0.]\n",
            " [0. 0. 0. 0.]\n",
            " [0. 0. 0. 0.]\n",
            " [0. 0. 0. 0.]\n",
            " [0. 0. 0. 0.]\n",
            " [0. 0. 0. 0.]\n",
            " [0. 0. 0. 0.]\n",
            " [0. 0. 0. 0.]\n",
            " [0. 0. 0. 0.]\n",
            " [0. 0. 0. 0.]\n",
            " [0. 0. 0. 0.]\n",
            " [0. 0. 0. 0.]\n",
            " [0. 0. 0. 0.]\n",
            " [0. 0. 0. 0.]\n",
            " [0. 0. 0. 0.]]\n"
          ]
        }
      ]
    },
    {
      "cell_type": "markdown",
      "source": [
        "### Entrenamiento\n",
        "Realizamos el entrenamiento del agente a lo largo de varios episodios.\n",
        "En cada episodio, el agente toma acciones, actualiza la tabla Q y ajusta su comportamiento basándose en las recompensas obtenidas."
      ],
      "metadata": {
        "id": "Nz_ddVzLaekS"
      }
    },
    {
      "cell_type": "code",
      "source": [
        "for _ in range(episodes):\n",
        "    state = environment.reset()\n",
        "    done = False\n",
        "    outcomes.append(\"Fracaso\")\n",
        "\n",
        "    while not done:\n",
        "        # Elige la acción con el valor más alto en el estado actual\n",
        "        if np.max(qtable[state]) > 0:\n",
        "            action = np.argmax(qtable[state])\n",
        "        # Si no hay una mejor acción (solo ceros), elige una aleatoria\n",
        "        else:\n",
        "            action = environment.action_space.sample()\n",
        "\n",
        "        # Implementa la acción y mueve al agente en la dirección deseada\n",
        "        new_state, reward, done, info = environment.step(action)\n",
        "\n",
        "        # Actualiza Q(s,a)\n",
        "        qtable[state, action] = qtable[state, action] + alpha * (\n",
        "            reward + gamma * np.max(qtable[new_state]) - qtable[state, action]\n",
        "        )\n",
        "\n",
        "        # Actualiza el estado actual\n",
        "        state = new_state\n",
        "\n",
        "        # Si hay una recompensa, significa que nuestro resultado es un éxito\n",
        "        if reward:\n",
        "            outcomes[-1] = \"Éxito\"\n",
        "\n",
        "print()\n",
        "print('===========================================')\n",
        "print('Q-table después del entrenamiento (CASO 1):')\n",
        "print(qtable)"
      ],
      "metadata": {
        "colab": {
          "base_uri": "https://localhost:8080/"
        },
        "id": "eaX2_7cyabML",
        "outputId": "1ad96824-8de3-4d7f-e3c0-25ce79f1e00a"
      },
      "execution_count": 36,
      "outputs": [
        {
          "output_type": "stream",
          "name": "stdout",
          "text": [
            "\n",
            "===========================================\n",
            "Q-table después del entrenamiento (CASO 1):\n",
            "[[0.      0.      0.59049 0.     ]\n",
            " [0.      0.      0.6561  0.     ]\n",
            " [0.      0.729   0.      0.     ]\n",
            " [0.      0.      0.      0.     ]\n",
            " [0.      0.      0.      0.     ]\n",
            " [0.      0.      0.      0.     ]\n",
            " [0.      0.81    0.      0.     ]\n",
            " [0.      0.      0.      0.     ]\n",
            " [0.      0.      0.      0.     ]\n",
            " [0.      0.      0.      0.     ]\n",
            " [0.      0.9     0.      0.     ]\n",
            " [0.      0.      0.      0.     ]\n",
            " [0.      0.      0.      0.     ]\n",
            " [0.      0.      0.      0.     ]\n",
            " [0.      0.      1.      0.     ]\n",
            " [0.      0.      0.      0.     ]]\n"
          ]
        }
      ]
    },
    {
      "cell_type": "markdown",
      "source": [
        "Utilizamos Matplotlib para crear un gráfico de barras que muestra los resultados de cada episodio (éxito o fracaso)."
      ],
      "metadata": {
        "id": "pTbbhhotaroK"
      }
    },
    {
      "cell_type": "code",
      "source": [
        "plt.figure(figsize=(12, 5))\n",
        "plt.xlabel(\"Número de ejecución\")\n",
        "plt.ylabel(\"Resultado\")\n",
        "ax = plt.gca()\n",
        "plt.bar(range(len(outcomes)), outcomes, width=1.0)\n",
        "plt.show()"
      ],
      "metadata": {
        "colab": {
          "base_uri": "https://localhost:8080/",
          "height": 389
        },
        "id": "KK5el5O4ao7r",
        "outputId": "2b280de1-b08f-4d27-edaf-e951c7f266fc"
      },
      "execution_count": 37,
      "outputs": [
        {
          "output_type": "display_data",
          "data": {
            "text/plain": [
              "<Figure size 1200x500 with 1 Axes>"
            ],
            "image/png": "[encoded data removed]"
          },
          "metadata": {}
        }
      ]
    },
    {
      "cell_type": "markdown",
      "source": [
        "### Evaluación\n",
        "Evaluamos el desempeño del agente después del entrenamiento."
      ],
      "metadata": {
        "id": "EXCEH0tYbFxs"
      }
    },
    {
      "cell_type": "code",
      "source": [
        "episodes_eval = 100\n",
        "success_count = 0\n",
        "\n",
        "for _ in range(episodes_eval):\n",
        "    state = environment.reset()\n",
        "    done = False\n",
        "\n",
        "    while not done:\n",
        "        # Elige la acción con el valor más alto en el estado actual\n",
        "        action = np.argmax(qtable[state])\n",
        "\n",
        "        # Implementa la acción y mueve al agente en la dirección deseada\n",
        "        new_state, reward, done, info = environment.step(action)\n",
        "\n",
        "        # Actualiza el estado actual\n",
        "        state = new_state\n",
        "\n",
        "        # Cuando obtenemos una recompensa, significa que hemos resuelto el juego\n",
        "        success_count += reward"
      ],
      "metadata": {
        "id": "0ra7Y1y-bIv3"
      },
      "execution_count": 38,
      "outputs": []
    },
    {
      "cell_type": "markdown",
      "source": [
        "La tasa de éxito del agente representa el porcentaje de episodios en los que el agente alcanzó el objetivo después del entrenamiento:"
      ],
      "metadata": {
        "id": "OLauXAXXbLPi"
      }
    },
    {
      "cell_type": "code",
      "source": [
        "success_rate = success_count / episodes_eval * 100\n",
        "print(f\"Tasa de éxito = {success_rate}%\")"
      ],
      "metadata": {
        "colab": {
          "base_uri": "https://localhost:8080/"
        },
        "id": "X7l2y2xobUaz",
        "outputId": "f52d1aea-43ea-405e-92bf-934a649d2f8f"
      },
      "execution_count": 39,
      "outputs": [
        {
          "output_type": "stream",
          "name": "stdout",
          "text": [
            "Tasa de éxito = 100.0%\n"
          ]
        }
      ]
    },
    {
      "cell_type": "markdown",
      "source": [
        "## Algoritmo Epsilon-Greedy\n",
        "Vamos a implementar ahora el algoritmo Epsilon-Greedy para el aprendizaje por refuerzo en el entorno Frozen Lake. La política epsilon-greedy equilibra la exploración (acciones aleatorias) con la explotación (acciones basadas en el conocimiento actual). La tabla Q se actualizará a medida que el agente explora y aprende de su experiencia."
      ],
      "metadata": {
        "id": "eATyMZqxbYow"
      }
    },
    {
      "cell_type": "markdown",
      "source": [
        "### Inicialización\n",
        "Volvemos a inicializar en entorno y la tabla Q"
      ],
      "metadata": {
        "id": "RtJfku-ich_o"
      }
    },
    {
      "cell_type": "code",
      "source": [
        "environment = gym.make(\"FrozenLake-v1\", is_slippery=False)\n",
        "environment.reset()"
      ],
      "metadata": {
        "colab": {
          "base_uri": "https://localhost:8080/"
        },
        "id": "XJ-jE4jBbb9V",
        "outputId": "220e0880-bfde-4bc4-9efd-0e57d4895b0e"
      },
      "execution_count": 40,
      "outputs": [
        {
          "output_type": "execute_result",
          "data": {
            "text/plain": [
              "0"
            ]
          },
          "metadata": {},
          "execution_count": 40
        }
      ]
    },
    {
      "cell_type": "code",
      "source": [
        "qtable = np.zeros((environment.observation_space.n, environment.action_space.n))"
      ],
      "metadata": {
        "id": "1EZQwBeccdeT"
      },
      "execution_count": 41,
      "outputs": []
    },
    {
      "cell_type": "markdown",
      "source": [
        "Estos son los nuevos parámetros:"
      ],
      "metadata": {
        "id": "hXAsGKEkcorD"
      }
    },
    {
      "cell_type": "code",
      "source": [
        "# Hiperparámetros\n",
        "episodios = 1000        # Número total de episodios\n",
        "alpha = 0.5             # Tasa de aprendizaje\n",
        "gamma = 0.9             # Factor de descuento\n",
        "epsilon = 1.0           # Cantidad de aleatoriedad en la selección de acciones\n",
        "epsilon_decay = 0.001   # Cantidad fija para disminuir epsilon"
      ],
      "metadata": {
        "id": "HVCJeWH4cgOy"
      },
      "execution_count": 42,
      "outputs": []
    },
    {
      "cell_type": "code",
      "source": [
        "resultados = []\n",
        "\n",
        "print('Tabla Q antes del entrenamiento:')\n",
        "print(qtable)"
      ],
      "metadata": {
        "colab": {
          "base_uri": "https://localhost:8080/"
        },
        "id": "wADkMhJmcn7u",
        "outputId": "4d78f9b9-b714-4cee-d7fc-bdebe38a8f15"
      },
      "execution_count": 43,
      "outputs": [
        {
          "output_type": "stream",
          "name": "stdout",
          "text": [
            "Tabla Q antes del entrenamiento:\n",
            "[[0. 0. 0. 0.]\n",
            " [0. 0. 0. 0.]\n",
            " [0. 0. 0. 0.]\n",
            " [0. 0. 0. 0.]\n",
            " [0. 0. 0. 0.]\n",
            " [0. 0. 0. 0.]\n",
            " [0. 0. 0. 0.]\n",
            " [0. 0. 0. 0.]\n",
            " [0. 0. 0. 0.]\n",
            " [0. 0. 0. 0.]\n",
            " [0. 0. 0. 0.]\n",
            " [0. 0. 0. 0.]\n",
            " [0. 0. 0. 0.]\n",
            " [0. 0. 0. 0.]\n",
            " [0. 0. 0. 0.]\n",
            " [0. 0. 0. 0.]]\n"
          ]
        }
      ]
    },
    {
      "cell_type": "markdown",
      "source": [
        "### Entrenamiento\n",
        "En cada episodio, el agente elige una acción utilizando la política epsilon-greedy: se actualiza la tabla Q utilizando la ecuación de actualización de Q, que incorpora la recompensa inmediata y la estimación del valor futuro."
      ],
      "metadata": {
        "id": "YPBBMUx2cwwM"
      }
    },
    {
      "cell_type": "code",
      "source": [
        "for _ in range(episodios):\n",
        "    state = environment.reset()\n",
        "    done = False\n",
        "\n",
        "    # Por defecto, consideramos que el resultado es un fracaso\n",
        "    resultados.append(\"Fracaso\")\n",
        "\n",
        "    # Hasta que el agente quede atrapado en un hoyo o alcance la meta, seguir entrenándolo\n",
        "    while not done:\n",
        "        # Generar un número aleatorio entre 0 y 1\n",
        "        rnd = np.random.random()\n",
        "\n",
        "        # Si el número aleatorio < epsilon, tomar una acción aleatoria\n",
        "        if rnd < epsilon:\n",
        "            action = environment.action_space.sample()\n",
        "        # De lo contrario, tomar la acción con el valor más alto en el estado actual\n",
        "        else:\n",
        "            action = np.argmax(qtable[state])\n",
        "\n",
        "        # Implementar esta acción y mover al agente en la dirección deseada\n",
        "        new_state, reward, done, info = environment.step(action)\n",
        "\n",
        "        # Actualizar Q(s,a) utilizando la ecuación de actualización de Q\n",
        "        qtable[state, action] = qtable[state, action] + \\\n",
        "                                alpha * (reward + gamma * np.max(qtable[new_state]) - qtable[state, action])\n",
        "\n",
        "        # Actualizar nuestro estado actual\n",
        "        state = new_state\n",
        "\n",
        "        # Si hay recompensa, significa que nuestro resultado es un éxito\n",
        "        if done and reward:\n",
        "            resultados[-1] = \"Éxito\"\n",
        "\n",
        "    # Actualizar epsilon\n",
        "    epsilon = max(epsilon - epsilon_decay, 0)\n",
        "\n",
        "print()\n",
        "print('===========================================')\n",
        "print('Tabla Q después del entrenamiento (CASO 2):')\n",
        "print(qtable)"
      ],
      "metadata": {
        "colab": {
          "base_uri": "https://localhost:8080/"
        },
        "id": "52XgqkM8cuo-",
        "outputId": "3af155ea-4777-4c32-975f-c18e65f2b463"
      },
      "execution_count": 44,
      "outputs": [
        {
          "output_type": "stream",
          "name": "stdout",
          "text": [
            "\n",
            "===========================================\n",
            "Tabla Q después del entrenamiento (CASO 2):\n",
            "[[0.531441   0.59049    0.59049    0.531441  ]\n",
            " [0.53144041 0.         0.6561     0.59048997]\n",
            " [0.59046763 0.729      0.58999751 0.6560718 ]\n",
            " [0.65603389 0.         0.54522762 0.49010031]\n",
            " [0.59049    0.6561     0.         0.531441  ]\n",
            " [0.         0.         0.         0.        ]\n",
            " [0.         0.81       0.         0.65449418]\n",
            " [0.         0.         0.         0.        ]\n",
            " [0.6561     0.         0.729      0.59049   ]\n",
            " [0.6561     0.81       0.81       0.        ]\n",
            " [0.729      0.9        0.         0.729     ]\n",
            " [0.         0.         0.         0.        ]\n",
            " [0.         0.         0.         0.        ]\n",
            " [0.         0.80975336 0.9        0.72897502]\n",
            " [0.81       0.9        1.         0.81      ]\n",
            " [0.         0.         0.         0.        ]]\n"
          ]
        }
      ]
    },
    {
      "cell_type": "code",
      "source": [
        "plt.figure(figsize=(12, 5))\n",
        "plt.xlabel(\"Número de ejecución\")\n",
        "plt.ylabel(\"Resultado\")\n",
        "ax = plt.gca()\n",
        "plt.bar(range(len(resultados)), resultados, width=1.0)\n",
        "plt.show()"
      ],
      "metadata": {
        "colab": {
          "base_uri": "https://localhost:8080/",
          "height": 389
        },
        "id": "vupcBTQIc7vE",
        "outputId": "ec75f33e-554e-406c-b94b-9a37c7171e6b"
      },
      "execution_count": 45,
      "outputs": [
        {
          "output_type": "display_data",
          "data": {
            "text/plain": [
              "<Figure size 1200x500 with 1 Axes>"
            ],
            "image/png": "[encoded data removed]"
          },
          "metadata": {}
        }
      ]
    },
    {
      "cell_type": "markdown",
      "source": [
        "### Evaluación"
      ],
      "metadata": {
        "id": "KMsOj_QMdZ8g"
      }
    },
    {
      "cell_type": "code",
      "source": [
        "episodios_evaluacion = 100\n",
        "conteo_exitos = 0\n",
        "\n",
        "for _ in range(episodios_evaluacion):\n",
        "    state = environment.reset()\n",
        "    done = False\n",
        "\n",
        "    # Hasta que el agente quede atrapado o alcance la meta, seguir evaluándolo\n",
        "    while not done:\n",
        "        # Elegir la acción con el valor más alto en el estado actual\n",
        "        action = np.argmax(qtable[state])\n",
        "\n",
        "        # Implementar esta acción y mover al agente en la dirección deseada\n",
        "        new_state, reward, done, info = environment.step(action)\n",
        "\n",
        "        # Actualizar nuestro estado actual\n",
        "        state = new_state\n",
        "\n",
        "    # Cuando llegamos a la meta, incrementar el conteo de éxitos\n",
        "    if reward == 1:\n",
        "        conteo_exitos += reward"
      ],
      "metadata": {
        "id": "ffP57roGdAAN"
      },
      "execution_count": 46,
      "outputs": []
    },
    {
      "cell_type": "code",
      "source": [
        "tasa_exito = conteo_exitos / episodios_evaluacion * 100\n",
        "print(f\"Tasa de éxito = {tasa_exito}%\")"
      ],
      "metadata": {
        "colab": {
          "base_uri": "https://localhost:8080/"
        },
        "id": "EHt0pX-Qdcvy",
        "outputId": "58d0b791-c244-4899-c89e-788a9580d8a8"
      },
      "execution_count": 47,
      "outputs": [
        {
          "output_type": "stream",
          "name": "stdout",
          "text": [
            "Tasa de éxito = 100.0%\n"
          ]
        }
      ]
    },
    {
      "cell_type": "markdown",
      "source": [
        "## Desafío: lago resbaladizo\n",
        "(is_slippery=True)"
      ],
      "metadata": {
        "id": "DZDbxVFebcLq"
      }
    },
    {
      "cell_type": "markdown",
      "source": [
        "### Inicialización\n",
        "Creamos el entorno Frozen Lake con hielo resbaladizo e inicializamos la tabla Q con ceros."
      ],
      "metadata": {
        "id": "vRIo2jKedzwJ"
      }
    },
    {
      "cell_type": "code",
      "source": [
        "entorno = gym.make(\"FrozenLake-v1\", is_slippery=True)\n",
        "entorno.reset()"
      ],
      "metadata": {
        "colab": {
          "base_uri": "https://localhost:8080/"
        },
        "id": "5EdlqqJJd3On",
        "outputId": "639d8b53-0850-4c2d-ce9d-e20d7d56c597"
      },
      "execution_count": 48,
      "outputs": [
        {
          "output_type": "execute_result",
          "data": {
            "text/plain": [
              "0"
            ]
          },
          "metadata": {},
          "execution_count": 48
        }
      ]
    },
    {
      "cell_type": "code",
      "source": [
        "tabla_q = np.zeros((entorno.observation_space.n, entorno.action_space.n))"
      ],
      "metadata": {
        "id": "ax80z7-qbmfn"
      },
      "execution_count": 49,
      "outputs": []
    },
    {
      "cell_type": "markdown",
      "source": [
        "Definimos los nuevos los parámetros del algoritmo"
      ],
      "metadata": {
        "id": "jGZNnkdAbmpF"
      }
    },
    {
      "cell_type": "code",
      "source": [
        "episodios = 5000        # Aumentamos el número de episodios\n",
        "alfa = 0.1              # Incrementamos la tasa de aprendizaje\n",
        "gamma = 0.95            # Incrementamos el factor de descuento\n",
        "epsilon = 1.0           # Cantidad de aleatoriedad en la selección de acciones\n",
        "epsilon_decaimiento = 0.0005  # Ajustamos la tasa de decaimiento"
      ],
      "metadata": {
        "id": "R7ZWSVsgeDQN"
      },
      "execution_count": 50,
      "outputs": []
    },
    {
      "cell_type": "code",
      "source": [
        "resultados = []\n",
        "\n",
        "print('Tabla Q antes del entrenamiento:')\n",
        "print(tabla_q)"
      ],
      "metadata": {
        "colab": {
          "base_uri": "https://localhost:8080/"
        },
        "id": "m45rjMegeFMo",
        "outputId": "280c7470-199e-4988-f87b-f0a1eb930b21"
      },
      "execution_count": 51,
      "outputs": [
        {
          "output_type": "stream",
          "name": "stdout",
          "text": [
            "Tabla Q antes del entrenamiento:\n",
            "[[0. 0. 0. 0.]\n",
            " [0. 0. 0. 0.]\n",
            " [0. 0. 0. 0.]\n",
            " [0. 0. 0. 0.]\n",
            " [0. 0. 0. 0.]\n",
            " [0. 0. 0. 0.]\n",
            " [0. 0. 0. 0.]\n",
            " [0. 0. 0. 0.]\n",
            " [0. 0. 0. 0.]\n",
            " [0. 0. 0. 0.]\n",
            " [0. 0. 0. 0.]\n",
            " [0. 0. 0. 0.]\n",
            " [0. 0. 0. 0.]\n",
            " [0. 0. 0. 0.]\n",
            " [0. 0. 0. 0.]\n",
            " [0. 0. 0. 0.]]\n"
          ]
        }
      ]
    },
    {
      "cell_type": "markdown",
      "source": [
        "### Entrenamiento\n",
        "Realizamos el entrenamiento del agente mediante Q-learning utilizando la estrategia epsilon-greedy para la selección de acciones"
      ],
      "metadata": {
        "id": "J0Ch4VlDeJ1I"
      }
    },
    {
      "cell_type": "code",
      "source": [
        "for episodio in range(episodios):\n",
        "    estado = entorno.reset()\n",
        "    hecho = False\n",
        "\n",
        "    # Por defecto, consideramos que el resultado es un fracaso\n",
        "    resultados.append(\"Fracaso\")\n",
        "\n",
        "    # Hasta que el agente quede atrapado en un agujero o alcance la meta, seguir entrenándolo\n",
        "    while not hecho:\n",
        "        # Generar un número aleatorio entre 0 y 1\n",
        "        rnd = np.random.random()\n",
        "\n",
        "        # Si el número aleatorio < epsilon, tomar una acción aleatoria\n",
        "        if rnd < epsilon:\n",
        "            accion = entorno.action_space.sample()\n",
        "        # De lo contrario, tomar la acción con el valor más alto en el estado actual\n",
        "        else:\n",
        "            accion = np.argmax(tabla_q[estado])\n",
        "\n",
        "        # Implementar esta acción y mover al agente en la dirección deseada\n",
        "        nuevo_estado, recompensa, hecho, info = entorno.step(accion)\n",
        "\n",
        "        # Actualizar Q(s,a)\n",
        "        tabla_q[estado, accion] = tabla_q[estado, accion] + \\\n",
        "                                  alfa * (recompensa + gamma * np.max(tabla_q[nuevo_estado]) - tabla_q[estado, accion])\n",
        "\n",
        "        # Actualizar nuestro estado actual\n",
        "        estado = nuevo_estado\n",
        "\n",
        "        # Si obtenemos una recompensa, significa que nuestro resultado es un éxito\n",
        "        if recompensa:\n",
        "            resultados[-1] = \"Éxito\"\n",
        "\n",
        "    # Actualizar epsilon\n",
        "    epsilon = max(epsilon - epsilon_decaimiento, 0)\n",
        "\n",
        "print()\n",
        "print('===========================================')\n",
        "print('Tabla Q después del entrenamiento (CASO 3):')\n",
        "print(tabla_q)"
      ],
      "metadata": {
        "colab": {
          "base_uri": "https://localhost:8080/"
        },
        "id": "Xxuj-MhSip0f",
        "outputId": "a0787056-a6f7-48c6-9351-823a75878561"
      },
      "execution_count": 52,
      "outputs": [
        {
          "output_type": "stream",
          "name": "stdout",
          "text": [
            "\n",
            "===========================================\n",
            "Tabla Q después del entrenamiento (CASO 3):\n",
            "[[0.20364277 0.12428475 0.12365983 0.12392884]\n",
            " [0.09633076 0.08482122 0.11251808 0.17216069]\n",
            " [0.16598746 0.1151001  0.11557414 0.11563418]\n",
            " [0.05677529 0.05085624 0.03237167 0.10648407]\n",
            " [0.23643793 0.12851726 0.14057791 0.10181449]\n",
            " [0.         0.         0.         0.        ]\n",
            " [0.19246551 0.07852729 0.07957967 0.05614444]\n",
            " [0.         0.         0.         0.        ]\n",
            " [0.15582261 0.18041651 0.14036544 0.31341605]\n",
            " [0.16767803 0.42146967 0.21052577 0.23698581]\n",
            " [0.48037872 0.22293445 0.22016565 0.2150108 ]\n",
            " [0.         0.         0.         0.        ]\n",
            " [0.         0.         0.         0.        ]\n",
            " [0.27340031 0.26730461 0.59356203 0.312583  ]\n",
            " [0.48447609 0.79406538 0.48621902 0.47857733]\n",
            " [0.         0.         0.         0.        ]]\n"
          ]
        }
      ]
    },
    {
      "cell_type": "code",
      "source": [
        "plt.figure(figsize=(12, 5))\n",
        "plt.xlabel(\"Número de ejecución\")\n",
        "plt.ylabel(\"Resultado\")\n",
        "ax = plt.gca()\n",
        "plt.bar(range(len(resultados)), resultados, width=1.0)\n",
        "plt.show()\n"
      ],
      "metadata": {
        "colab": {
          "base_uri": "https://localhost:8080/",
          "height": 389
        },
        "id": "1zqHFXoEiuWq",
        "outputId": "2bee5ec9-51af-40bd-b607-9a59a2b96601"
      },
      "execution_count": 53,
      "outputs": [
        {
          "output_type": "display_data",
          "data": {
            "text/plain": [
              "<Figure size 1200x500 with 1 Axes>"
            ],
            "image/png": "[encoded data removed]"
          },
          "metadata": {}
        }
      ]
    },
    {
      "cell_type": "markdown",
      "source": [
        "### Evaluación\n",
        "Evaluamos el desempeño del agente después del entrenamiento en un conjunto separado de episodios"
      ],
      "metadata": {
        "id": "hIUhx-QPiv_s"
      }
    },
    {
      "cell_type": "code",
      "source": [
        "episodios_evaluacion = 100\n",
        "num_exitos = 0\n",
        "\n",
        "for _ in range(episodios_evaluacion):\n",
        "    estado = entorno.reset()\n",
        "    hecho = False\n",
        "\n",
        "    # Hasta que el agente quede atrapado o alcance la meta, seguir entrenándolo\n",
        "    while not hecho:\n",
        "        # Elegir la acción con el valor más alto en el estado actual\n",
        "        accion = np.argmax(tabla_q[estado])\n",
        "\n",
        "        # Implementar esta acción y mover al agente en la dirección deseada\n",
        "        nuevo_estado, recompensa, hecho, info = entorno.step(accion)\n",
        "\n",
        "        # Actualizar nuestro estado actual\n",
        "        estado = nuevo_estado\n",
        "\n",
        "        # Cuando obtenemos una recompensa, significa que resolvimos el juego\n",
        "        num_exitos += recompensa"
      ],
      "metadata": {
        "id": "_gB9usj-i00l"
      },
      "execution_count": 54,
      "outputs": []
    },
    {
      "cell_type": "code",
      "source": [
        "tasa_exito = num_exitos / episodios_evaluacion * 100\n",
        "print(f\"Tasa de éxito = {tasa_exito}%\")"
      ],
      "metadata": {
        "colab": {
          "base_uri": "https://localhost:8080/"
        },
        "id": "RzCLTgBxi3SJ",
        "outputId": "86ccd54e-1a9c-4c05-a013-a85149e10438"
      },
      "execution_count": 55,
      "outputs": [
        {
          "output_type": "stream",
          "name": "stdout",
          "text": [
            "Tasa de éxito = 73.0%\n"
          ]
        }
      ]
    },
    {
      "cell_type": "markdown",
      "source": [
        "## Resultados"
      ],
      "metadata": {
        "id": "9jaj473Qi6wC"
      }
    },
    {
      "cell_type": "markdown",
      "source": [
        "**Q-Learning: Caso 1 - Entorno sin deslizamiento** (is_slippery=False):\n",
        "\n",
        "- *Inicialización*: entorno Frozen Lake sin deslizamiento.\n",
        "\n",
        "- *Entrenamiento*: el agente se entrena a lo largo de varios episodios. Durante cada episodio, el agente toma acciones, actualiza la tabla Q utilizando la ecuación de Q-learning y ajusta su comportamiento en función de las recompensas obtenidas.\n",
        "\n",
        "- *Evaluación*: tasa de éxito es del 100%, lo que significa que el agente logró alcanzar el objetivo en todos los episodios de evaluación.  \n",
        "  \n",
        "  \n",
        "**Q-Learning: Caso 2 - Implementación de Epsilon-Greedy** (is_slippery=False):\n",
        "\n",
        "- *Inicialización*: entorno Frozen Lake sin deslizamiento.\n",
        "\n",
        "- *Entrenamiento*: se utiliza el algoritmo Epsilon-Greedy para equilibrar la exploración y la explotación. La tabla Q se actualiza a medida que el agente explora y aprende de su experiencia.\n",
        "\n",
        "- *Evaluación*: tasa de éxito es del 100%, indicando que el agente logra alcanzar el objetivo en todos los episodios de evaluación.    \n",
        "    \n",
        "  \n",
        "**Q-Learning: Caso 3 - Entorno con deslizamiento** (is_slippery=True):\n",
        "\n",
        "- *Inicialización*: entorno Frozen Lake con deslizamiento.  \n",
        "  \n",
        "- *Entrenamiento*: El agente se entrena mediante Q-learning con la estrategia Epsilon-Greedy.\n",
        "\n",
        "- *Evaluación*: tasa de éxito es del 73%, lo que indica que el agente logra alcanzar el objetivo en el 73% de los episodios de evaluación.\n",
        "\n",
        "\n",
        "\n"
      ],
      "metadata": {
        "id": "1taqauZLi_90"
      }
    },
    {
      "cell_type": "markdown",
      "source": [
        "En el caso sin deslizamiento, el agente logra un 100% de éxito en la evaluación. Esto puede deberse a que el entorno es determinista y no hay incertidumbre en las transiciones entre estados.\n",
        "La implementación de Epsilon-Greedy ayuda a equilibrar la exploración y explotación, lo que puede ser crucial para el éxito del agente en entornos estocásticos o desconocidos.\n",
        "En el caso con deslizamiento, el éxito del agente en la evaluación es del 73%. El deslizamiento introduce incertidumbre, lo que puede dificultar la tarea del agente. Ajustar los hiperparámetros, como la tasa de aprendizaje y la tasa de decaimiento de epsilon, podría influir en el rendimiento del agente en entornos más desafiantes."
      ],
      "metadata": {
        "id": "hUbvUeun8Vpk"
      }
    },
    {
      "cell_type": "markdown",
      "source": [
        "## Mejoras\n",
        "vamos a cambiar algunos parámetros para ver si conseguimos mejorar el 3º caso."
      ],
      "metadata": {
        "id": "8G6uUi-w9tMy"
      }
    },
    {
      "cell_type": "code",
      "source": [
        "# Inicializacion\n",
        "environment = gym.make(\"FrozenLake-v1\", is_slippery=True)\n",
        "environment.reset()\n",
        "\n",
        "# Q-table\n",
        "qtable = np.zeros((environment.observation_space.n, environment.action_space.n))\n",
        "\n",
        "# Hyperparametros\n",
        "episodes = 5000\n",
        "alpha = 0.1\n",
        "gamma = 0.99            # Aumentamos el factor de descuento\n",
        "epsilon = 1.0\n",
        "epsilon_decay = 0.0005"
      ],
      "metadata": {
        "id": "aWz_pnIf_Czo"
      },
      "execution_count": 138,
      "outputs": []
    },
    {
      "cell_type": "code",
      "source": [
        "# Lista de resultados para graficar\n",
        "outcomes = []\n",
        "\n",
        "print('Q-table antes del entrenamiento:')\n",
        "print(qtable)"
      ],
      "metadata": {
        "colab": {
          "base_uri": "https://localhost:8080/"
        },
        "id": "NqHHnm6Q_YPF",
        "outputId": "b4a1401e-6ecd-4911-f645-cbb8cb82e0a6"
      },
      "execution_count": 139,
      "outputs": [
        {
          "output_type": "stream",
          "name": "stdout",
          "text": [
            "Q-table antes del entrenamiento:\n",
            "[[0. 0. 0. 0.]\n",
            " [0. 0. 0. 0.]\n",
            " [0. 0. 0. 0.]\n",
            " [0. 0. 0. 0.]\n",
            " [0. 0. 0. 0.]\n",
            " [0. 0. 0. 0.]\n",
            " [0. 0. 0. 0.]\n",
            " [0. 0. 0. 0.]\n",
            " [0. 0. 0. 0.]\n",
            " [0. 0. 0. 0.]\n",
            " [0. 0. 0. 0.]\n",
            " [0. 0. 0. 0.]\n",
            " [0. 0. 0. 0.]\n",
            " [0. 0. 0. 0.]\n",
            " [0. 0. 0. 0.]\n",
            " [0. 0. 0. 0.]]\n"
          ]
        }
      ]
    },
    {
      "cell_type": "code",
      "source": [
        "# Entrenamiento\n",
        "for _ in range(episodes):\n",
        "    state = environment.reset()\n",
        "    done = False\n",
        "    outcomes.append(\"Fracaso\")\n",
        "\n",
        "    while not done:\n",
        "        # Generar un número aleatorio entre 0 y 1\n",
        "        rnd = np.random.random()\n",
        "\n",
        "        # Si el número aleatorio < epsilon, tomar una acción aleatoria\n",
        "        if rnd < epsilon:\n",
        "            action = environment.action_space.sample()\n",
        "        # De lo contrario, tomar la acción con el valor más alto en el estado actual\n",
        "        else:\n",
        "            action = np.argmax(qtable[state])\n",
        "\n",
        "        # Implementar esta acción y mover al agente en la dirección deseada\n",
        "        new_state, reward, done, info = environment.step(action)\n",
        "\n",
        "        # Actualizar Q(s,a)\n",
        "        qtable[state, action] = qtable[state, action] + \\\n",
        "                                alpha * (reward + gamma * np.max(qtable[new_state]) - qtable[state, action])\n",
        "\n",
        "        # Actualizar nuestro estado actual\n",
        "        state = new_state\n",
        "\n",
        "        # Si hay recompensa, significa que nuestro resultado es un éxito\n",
        "        if done and reward:\n",
        "            outcomes[-1] = \"Éxito\"\n",
        "\n",
        "    # Actualizar epsilon\n",
        "    epsilon = max(epsilon - epsilon_decay, 0)\n",
        "\n",
        "print()\n",
        "print('===========================================')\n",
        "print('Q-table después del entrenamiento:')\n",
        "print(qtable)"
      ],
      "metadata": {
        "colab": {
          "base_uri": "https://localhost:8080/"
        },
        "id": "Kl4QarI2_Uw7",
        "outputId": "049b52de-e303-4599-e463-4a0f45f19544"
      },
      "execution_count": 140,
      "outputs": [
        {
          "output_type": "stream",
          "name": "stdout",
          "text": [
            "\n",
            "===========================================\n",
            "Q-table después del entrenamiento:\n",
            "[[0.54863814 0.46666037 0.4657643  0.46650947]\n",
            " [0.19393467 0.26419074 0.28071313 0.50555983]\n",
            " [0.30084402 0.27203238 0.28965092 0.46025142]\n",
            " [0.10169557 0.10129828 0.119145   0.44207074]\n",
            " [0.57144805 0.28521492 0.43397186 0.34181815]\n",
            " [0.         0.         0.         0.        ]\n",
            " [0.37153131 0.15598924 0.17222978 0.05291622]\n",
            " [0.         0.         0.         0.        ]\n",
            " [0.31124283 0.36795277 0.40848121 0.60616918]\n",
            " [0.45711942 0.66160551 0.29614084 0.36820077]\n",
            " [0.60430666 0.3580599  0.22098214 0.19487469]\n",
            " [0.         0.         0.         0.        ]\n",
            " [0.         0.         0.         0.        ]\n",
            " [0.46380486 0.55510739 0.74632776 0.45161618]\n",
            " [0.58618834 0.85077671 0.71927988 0.68437286]\n",
            " [0.         0.         0.         0.        ]]\n"
          ]
        }
      ]
    },
    {
      "cell_type": "code",
      "source": [
        "# Graficar resultados\n",
        "plt.figure(figsize=(12, 5))\n",
        "plt.xlabel(\"Número de ejecución\")\n",
        "plt.ylabel(\"Resultado\")\n",
        "ax = plt.gca()\n",
        "plt.bar(range(len(outcomes)), outcomes, width=1.0)\n",
        "plt.show()"
      ],
      "metadata": {
        "colab": {
          "base_uri": "https://localhost:8080/",
          "height": 389
        },
        "id": "-N1kpWl1_S_k",
        "outputId": "dd65494c-ad1b-4f46-8b8c-88c3c12f739d"
      },
      "execution_count": 141,
      "outputs": [
        {
          "output_type": "display_data",
          "data": {
            "text/plain": [
              "<Figure size 1200x500 with 1 Axes>"
            ],
            "image/png": "[encoded data removed]"
          },
          "metadata": {}
        }
      ]
    },
    {
      "cell_type": "code",
      "source": [
        "# Evaluación\n",
        "episodes_eval = 100\n",
        "success_count = 0\n",
        "\n",
        "for _ in range(episodes_eval):\n",
        "    state = environment.reset()\n",
        "    done = False\n",
        "\n",
        "    while not done:\n",
        "        # Elegir la acción con el valor más alto en el estado actual\n",
        "        action = np.argmax(qtable[state])\n",
        "\n",
        "        # Implementar esta acción y mover al agente en la dirección deseada\n",
        "        new_state, reward, done, info = environment.step(action)\n",
        "\n",
        "        # Actualizar nuestro estado actual\n",
        "        state = new_state\n",
        "\n",
        "        # Cuando obtenemos una recompensa, significa que hemos resuelto el juego\n",
        "        success_count += reward"
      ],
      "metadata": {
        "id": "hSUC4S4c_RbL"
      },
      "execution_count": 142,
      "outputs": []
    },
    {
      "cell_type": "code",
      "source": [
        "# Tasa de éxito del agente\n",
        "success_rate = success_count / episodes_eval * 100\n",
        "print(f\"Tasa de éxito = {success_rate}%\")"
      ],
      "metadata": {
        "colab": {
          "base_uri": "https://localhost:8080/"
        },
        "id": "9HqsPXfT_Pcu",
        "outputId": "fe9fe027-c027-4163-dc14-725e47a7e46b"
      },
      "execution_count": 143,
      "outputs": [
        {
          "output_type": "stream",
          "name": "stdout",
          "text": [
            "Tasa de éxito = 83.0%\n"
          ]
        }
      ]
    },
    {
      "cell_type": "markdown",
      "source": [
        "Al aumentar el factor de descuento gamma a 0.99, se da más peso a las recompensas futuras. Al haber aumentado también el número de episodios, el agente tiene más iteraciones para aprender y ajustar su estrategia. Esto hace que los resultados mejoren."
      ],
      "metadata": {
        "id": "HUsIWlUwCtfo"
      }
    },
    {
      "cell_type": "markdown",
      "source": [
        "## Conclusión\n",
        "En el contexto del experimento estas son algunas reflexiones que se pueden hacer sobre el aprendizaje por refuerzo:\n",
        "- El equilibrio entre la exploración (acciones aleatorias) y la explotación (acciones basadas en el conocimiento actual) es fundamental en RL. En este experimento, la estrategia epsilon-greedy se utiliza para abordar este dilema, permitiendo al agente explorar nuevas acciones con una probabilidad epsilon y explotar las acciones conocidas con una probabilidad 1-epsilon.\n",
        "\n",
        "- La introducción de aleatoriedad en el entorno resbaladizo afecta significativamente el rendimiento del agente. La aleatoriedad en las transiciones entre estados implica que el agente debe ser más flexible y adaptarse a diferentes situaciones.\n",
        "\n",
        "- Los hiperparámetros, como la tasa de aprendizaje (alpha), el factor de descuento (gamma), y la tasa de exploración (epsilon), juegan un papel crucial en el rendimiento del algoritmo. Ajustar estos hiperparámetros de manera efectiva puede ser clave para lograr un equilibrio entre la convergencia rápida y la adaptabilidad del agente.\n",
        "\n",
        "El aprendizaje por refuerzo permite a los agentes adaptarse a cambios en el entorno. La capacidad de aprender de la experiencia y ajustar estrategias en tiempo real es una fortaleza del RL, el desafío se encuentra en realizar una cuidadosa sintonización de hiperparámetros y estrategias para abordar la exploración y la explotación de manera efectiva."
      ],
      "metadata": {
        "id": "vzh1c3V9F3qI"
      }
    }
  ]
}